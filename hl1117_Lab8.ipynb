{
  "cells": [
    {
      "cell_type": "markdown",
      "metadata": {
        "id": "zB1f99-fPcHn"
      },
      "source": [
        "# Diamond Company Analytics Challenge\n",
        "\n",
        "**Time:** 35 minutes\n",
        "\n",
        "**Scenario:** You are the new data analyst at a prestigious diamond company. The CEO has called an urgent meeting and needs answers to critical business questions about the inventory.\n",
        "\n",
        "**Your Mission:** Analyze the diamond inventory data and provide insights to guide strategic decisions."
      ]
    },
    {
      "cell_type": "code",
      "execution_count": null,
      "metadata": {
        "colab": {
          "base_uri": "https://localhost:8080/"
        },
        "id": "yy_rbxhgPcHp",
        "outputId": "e7f164cb-9988-4666-a8c7-fcc15e3a8b85"
      },
      "outputs": [
        {
          "output_type": "stream",
          "name": "stdout",
          "text": [
            "Loading diamonds dataset...\n",
            "Dataset loaded successfully!\n"
          ]
        }
      ],
      "source": [
        "import polars as pl\n",
        "\n",
        "# Load the diamonds dataset\n",
        "print(\"Loading diamonds dataset...\")\n",
        "df = pl.read_csv('https://raw.githubusercontent.com/pycaret/pycaret/master/datasets/diamond.csv')\n",
        "print(\"Dataset loaded successfully!\")"
      ]
    },
    {
      "cell_type": "markdown",
      "metadata": {
        "id": "Z4AGkZzQPcHq"
      },
      "source": [
        "## Section 1: Initial Inventory Assessment (5 minutes)\n",
        "\n",
        "The CEO walks in: \"Before we dive into specifics, I need to understand what we're working with. Give me the basics about our inventory database.\""
      ]
    },
    {
      "cell_type": "markdown",
      "metadata": {
        "id": "XgjBpiU9PcHq"
      },
      "source": [
        "### Question 1: \"How extensive is our inventory database?\"\n",
        "\n",
        "The CEO needs to know the scale of data you're analyzing."
      ]
    },
    {
      "cell_type": "code",
      "execution_count": null,
      "metadata": {
        "colab": {
          "base_uri": "https://localhost:8080/"
        },
        "id": "lgLJbxF8PcHq",
        "outputId": "d37da2c3-2ca7-457a-ffff-f1593d56390f"
      },
      "outputs": [
        {
          "output_type": "stream",
          "name": "stdout",
          "text": [
            "Our inventory database contains 6,000 diamonds.\n"
          ]
        }
      ],
      "source": [
        "# Your code here:\n",
        "num_rows, num_cols = df.shape\n",
        "\n",
        "print(f\"Our inventory database contains {num_rows:,} diamonds.\")\n"
      ]
    },
    {
      "cell_type": "markdown",
      "metadata": {
        "id": "gWXFc1KNPcHr"
      },
      "source": [
        "### Question 2: \"What information do we track about each diamond?\"\n",
        "\n",
        "List all the characteristics we record."
      ]
    },
    {
      "cell_type": "code",
      "execution_count": null,
      "metadata": {
        "colab": {
          "base_uri": "https://localhost:8080/"
        },
        "id": "FTG11jYlPcHr",
        "outputId": "9398b52d-4fdf-4780-f7a5-6db461bd81f6"
      },
      "outputs": [
        {
          "output_type": "stream",
          "name": "stdout",
          "text": [
            "['Carat Weight', 'Cut', 'Color', 'Clarity', 'Polish', 'Symmetry', 'Report', 'Price']\n",
            "For each diamond, the characteristics we track are: Carat Weight, Cut, Color, Clarity, Polish, Symmetry, Report, Price.\n"
          ]
        }
      ],
      "source": [
        "# Your code here:\n",
        "\n",
        "print(df.columns)\n",
        "\n",
        "\n",
        "characteristics_list = \", \".join(df.columns)\n",
        "\n",
        "print(f\"For each diamond, the characteristics we track are: {characteristics_list}.\")\n",
        "\n"
      ]
    },
    {
      "cell_type": "markdown",
      "metadata": {
        "id": "ks3bIYJwPcHr"
      },
      "source": [
        "### Question 3: \"When I look at one line in this database, what am I looking at?\"\n",
        "\n",
        "Explain in business terms:"
      ]
    },
    {
      "cell_type": "markdown",
      "metadata": {
        "id": "Nw-eRw_1PcHr"
      },
      "source": [
        "**Your answer:** Each row represents: all the characteristics of a single diamond in our inventory."
      ]
    },
    {
      "cell_type": "markdown",
      "metadata": {
        "id": "SjnFiCvFPcHs"
      },
      "source": [
        "## Section 2: Strategic Business Questions (20 minutes)\n",
        "\n",
        "The CEO continues: \"Now let's get to the important questions. Our board meeting is tomorrow and I need concrete numbers.\""
      ]
    },
    {
      "cell_type": "markdown",
      "metadata": {
        "id": "3RxyUrJUPcHs"
      },
      "source": [
        "### Question 4: \"We're considering expanding our storage facilities. How many total carats do we have in inventory? I need to know if our vaults can handle the weight.\"\n",
        "\n",
        "Think about what measurement would help answer this."
      ]
    },
    {
      "cell_type": "code",
      "execution_count": null,
      "metadata": {
        "colab": {
          "base_uri": "https://localhost:8080/"
        },
        "id": "EBQpAl_0PcHs",
        "outputId": "65c4fa7f-1521-4a8d-cb2e-3fd462e96b24"
      },
      "outputs": [
        {
          "output_type": "stream",
          "name": "stdout",
          "text": [
            "The total weight of diamonds in inventory is 8,007.12 carats.\n"
          ]
        }
      ],
      "source": [
        "# Your code here:\n",
        "\n",
        "total_carats = df['Carat Weight'].sum()\n",
        "print(f\"The total weight of diamonds in inventory is {total_carats:,.2f} carats.\")\n"
      ]
    },
    {
      "cell_type": "markdown",
      "metadata": {
        "id": "H5ROVCbkPcHs"
      },
      "source": [
        "### Question 5: \"Our new marketing campaign claims we have 'the widest variety of cuts in the industry.' Can you verify this?\"\n",
        "\n",
        "The CEO wants to know about variety, not quantity."
      ]
    },
    {
      "cell_type": "code",
      "execution_count": null,
      "metadata": {
        "colab": {
          "base_uri": "https://localhost:8080/"
        },
        "id": "Cw_H9SgkPcHs",
        "outputId": "0e1b81e6-5c8c-4c57-d525-df639f54a3ec"
      },
      "outputs": [
        {
          "output_type": "stream",
          "name": "stdout",
          "text": [
            "We have 5 unique cuts in our inventory: ['Fair', 'Good', 'Ideal', 'Signature-Ideal', 'Very Good'].\n"
          ]
        }
      ],
      "source": [
        "# Your code here:\n",
        "unique_cuts = df['Cut'].unique().sort().to_list()\n",
        "num_unique_cuts = len(unique_cuts)\n",
        "\n",
        "print(f\"We have {num_unique_cuts} unique cuts in our inventory: {unique_cuts}.\")\n"
      ]
    },
    {
      "cell_type": "markdown",
      "metadata": {
        "id": "oUnEQbKkPcHt"
      },
      "source": [
        "### Question 6: \"I'm meeting with our insurance company. They need to know our price exposure - what's our most and least valuable diamond?\""
      ]
    },
    {
      "cell_type": "code",
      "execution_count": null,
      "metadata": {
        "colab": {
          "base_uri": "https://localhost:8080/"
        },
        "id": "n30fld-GPcHt",
        "outputId": "820c05bd-c77f-433c-986f-87f316f9cb55"
      },
      "outputs": [
        {
          "output_type": "stream",
          "name": "stdout",
          "text": [
            "Most valuable diamond:\n",
            "The most valuable diamond costs 101561\n",
            "\n",
            "Least valuable diamond:\n",
            "The least valuable diamond costs 2184\n"
          ]
        }
      ],
      "source": [
        "# Your code here:\n",
        "\n",
        "most_valuable = df.sort(\"Price\", descending=True).select(df.columns).head(1)\n",
        "least_valuable = df.sort(\"Price\").select(df.columns).head(1)\n",
        "\n",
        "print(\"Most valuable diamond:\")\n",
        "print(f\"The most valuable diamond costs {most_valuable['Price'].item()}\")\n",
        "\n",
        "print(\"\\nLeast valuable diamond:\")\n",
        "print(f\"The least valuable diamond costs {least_valuable['Price'].item()}\")"
      ]
    },
    {
      "cell_type": "markdown",
      "metadata": {
        "id": "ZaJbjK-DPcHt"
      },
      "source": [
        "### Question 7: \"Which color grades should we focus on in our premium line? I need typical prices across our color spectrum.\"\n",
        "\n",
        "The CEO wants to understand pricing patterns."
      ]
    },
    {
      "cell_type": "code",
      "execution_count": null,
      "metadata": {
        "colab": {
          "base_uri": "https://localhost:8080/"
        },
        "id": "DOtbEhRsPcHt",
        "outputId": "7bf5f6ea-8095-40f8-f8ab-80c99fa9bf78"
      },
      "outputs": [
        {
          "output_type": "stream",
          "name": "stdout",
          "text": [
            "shape: (6, 2)\n",
            "┌───────┬──────────────┐\n",
            "│ Color ┆ avg_price    │\n",
            "│ ---   ┆ ---          │\n",
            "│ str   ┆ f64          │\n",
            "╞═══════╪══════════════╡\n",
            "│ D     ┆ 15255.783661 │\n",
            "│ F     ┆ 12712.241856 │\n",
            "│ G     ┆ 12520.050633 │\n",
            "│ E     ┆ 11539.190231 │\n",
            "│ H     ┆ 10487.347544 │\n",
            "│ I     ┆ 8989.636364  │\n",
            "└───────┴──────────────┘\n"
          ]
        }
      ],
      "source": [
        "# Your code here:\n",
        "\n",
        "avg_price_by_color = (\n",
        "    df.group_by(\"Color\")\n",
        "      .agg(pl.col(\"Price\").mean().alias(\"avg_price\"))\n",
        "      .sort(\"avg_price\", descending=True)\n",
        ")\n",
        "\n",
        "print(avg_price_by_color)"
      ]
    },
    {
      "cell_type": "markdown",
      "metadata": {
        "id": "9UXHmtWYPcHt"
      },
      "source": [
        "**Reflection:** After analyzing by color, how has your view of the data changed? What does each row in your result represent now?"
      ]
    },
    {
      "cell_type": "markdown",
      "metadata": {
        "id": "LaApW7KJPcHu"
      },
      "source": [
        "**Your answer:** New grain = Each row now represents a color grade and the typical price for that color across all diamonds in inventory, rather than a single diamond"
      ]
    },
    {
      "cell_type": "markdown",
      "metadata": {
        "id": "Y3EQrGfYPcHu"
      },
      "source": [
        "## Section 3: Advanced Strategic Analysis (10 minutes)\n",
        "\n",
        "The CEO leans forward: \"These next questions will shape our strategy for next year.\""
      ]
    },
    {
      "cell_type": "markdown",
      "metadata": {
        "id": "bk_uIU1HPcHu"
      },
      "source": [
        "### Question 8: \"We're thinking of specializing in certain clarity grades. For our investor deck, I need a complete breakdown showing: how many diamonds we have in each clarity grade, their typical price, and the total carats we're holding for each grade.\""
      ]
    },
    {
      "cell_type": "code",
      "execution_count": null,
      "metadata": {
        "colab": {
          "base_uri": "https://localhost:8080/"
        },
        "id": "9OPpUWbWPcHu",
        "outputId": "ee1d3176-b0f1-4d2a-d5f9-5088b530f45f"
      },
      "outputs": [
        {
          "output_type": "stream",
          "name": "stdout",
          "text": [
            "shape: (7, 4)\n",
            "┌─────────┬──────────────┬──────────────┬──────────────┐\n",
            "│ Clarity ┆ num_diamonds ┆ avg_price    ┆ total_carats │\n",
            "│ ---     ┆ ---          ┆ ---          ┆ ---          │\n",
            "│ str     ┆ u32          ┆ f64          ┆ f64          │\n",
            "╞═════════╪══════════════╪══════════════╪══════════════╡\n",
            "│ VVS2    ┆ 666          ┆ 14142.177177 ┆ 876.58       │\n",
            "│ VVS1    ┆ 285          ┆ 16845.680702 ┆ 389.43       │\n",
            "│ FL      ┆ 4            ┆ 63776.0      ┆ 7.87         │\n",
            "│ IF      ┆ 219          ┆ 22105.844749 ┆ 316.0        │\n",
            "│ VS2     ┆ 1575         ┆ 11809.053333 ┆ 2170.81      │\n",
            "│ SI1     ┆ 2059         ┆ 8018.864012  ┆ 2563.69      │\n",
            "│ VS1     ┆ 1192         ┆ 13694.113255 ┆ 1682.74      │\n",
            "└─────────┴──────────────┴──────────────┴──────────────┘\n"
          ]
        }
      ],
      "source": [
        "# Your code here:\n",
        "\n",
        "clarity_summary = (\n",
        "    df.group_by(\"Clarity\")\n",
        "      .agg([\n",
        "          pl.len().alias(\"num_diamonds\"),\n",
        "          pl.col(\"Price\").mean().alias(\"avg_price\"),\n",
        "          pl.col(\"Carat Weight\").sum().alias(\"total_carats\")\n",
        "      ])\n",
        ")\n",
        "\n",
        "print(clarity_summary)"
      ]
    },
    {
      "cell_type": "markdown",
      "metadata": {
        "id": "zsS_ofQLPcHu"
      },
      "source": [
        "### Question 9: \"My luxury competitor claims they have the best prices for every cut-color combination. Show me our pricing structure across these combinations - I want to see where we're competitive.\""
      ]
    },
    {
      "cell_type": "code",
      "execution_count": null,
      "metadata": {
        "colab": {
          "base_uri": "https://localhost:8080/"
        },
        "id": "Vp_7j75BPcHv",
        "outputId": "e25f2884-faf3-4b34-9a40-f321081f2b56"
      },
      "outputs": [
        {
          "output_type": "stream",
          "name": "stdout",
          "text": [
            "shape: (30, 3)\n",
            "┌───────────┬───────┬──────────────┐\n",
            "│ Cut       ┆ Color ┆ avg_price    │\n",
            "│ ---       ┆ ---   ┆ ---          │\n",
            "│ str       ┆ str   ┆ f64          │\n",
            "╞═══════════╪═══════╪══════════════╡\n",
            "│ Fair      ┆ D     ┆ 6058.25      │\n",
            "│ Fair      ┆ E     ┆ 5370.625     │\n",
            "│ Fair      ┆ F     ┆ 6063.625     │\n",
            "│ Fair      ┆ G     ┆ 7345.52381   │\n",
            "│ Fair      ┆ H     ┆ 5908.5       │\n",
            "│ …         ┆ …     ┆ …            │\n",
            "│ Very Good ┆ E     ┆ 12101.910217 │\n",
            "│ Very Good ┆ F     ┆ 12413.905495 │\n",
            "│ Very Good ┆ G     ┆ 12354.013841 │\n",
            "│ Very Good ┆ H     ┆ 10056.106132 │\n",
            "│ Very Good ┆ I     ┆ 8930.031332  │\n",
            "└───────────┴───────┴──────────────┘\n"
          ]
        }
      ],
      "source": [
        "# Your code here:\n",
        "\n",
        "pricing_matrix = (\n",
        "    df.group_by([\"Cut\", \"Color\"])\n",
        "      .agg(pl.col(\"Price\").mean().alias(\"avg_price\"))\n",
        "      .sort([\"Cut\", \"Color\"])\n",
        ")\n",
        "\n",
        "print(pricing_matrix)\n",
        "\n"
      ]
    },
    {
      "cell_type": "markdown",
      "metadata": {
        "id": "mTIr86YvPcHv"
      },
      "source": [
        "**Reflection:** How specific is your analysis now? What level of detail does each row represent?"
      ]
    },
    {
      "cell_type": "markdown",
      "metadata": {
        "id": "djjJklbkPcHv"
      },
      "source": [
        "**Your answer:** New grain = Each row represents a unique combination of cut and color, showing the typical price for all diamonds that share that combination"
      ]
    },
    {
      "cell_type": "markdown",
      "metadata": {
        "id": "84LczsgiPcHv"
      },
      "source": [
        "### Question 10: URGENT - \"Our biggest client is interested in purchasing entire inventory segments. They asked: 'Which color-cut combinations represent your highest total inventory value?' Show me the top 5 most valuable inventory segments by total worth, and include how many diamonds are in each segment.\"\n",
        "\n",
        "This is critical for tomorrow's negotiation."
      ]
    },
    {
      "cell_type": "code",
      "execution_count": null,
      "metadata": {
        "colab": {
          "base_uri": "https://localhost:8080/"
        },
        "id": "RfQMrqOzPcHv",
        "outputId": "7ba320c3-991b-4283-d028-b56f85033fd7"
      },
      "outputs": [
        {
          "output_type": "stream",
          "name": "stdout",
          "text": [
            "shape: (5, 4)\n",
            "┌───────────┬───────┬─────────────┬──────────────┐\n",
            "│ Cut       ┆ Color ┆ total_value ┆ num_diamonds │\n",
            "│ ---       ┆ ---   ┆ ---         ┆ ---          │\n",
            "│ str       ┆ str   ┆ i64         ┆ u32          │\n",
            "╞═══════════╪═══════╪═════════════╪══════════════╡\n",
            "│ Ideal     ┆ G     ┆ 9363514     ┆ 690          │\n",
            "│ Very Good ┆ G     ┆ 7140620     ┆ 578          │\n",
            "│ Very Good ┆ F     ┆ 5648327     ┆ 455          │\n",
            "│ Ideal     ┆ F     ┆ 5346782     ┆ 363          │\n",
            "│ Ideal     ┆ H     ┆ 5279687     ┆ 458          │\n",
            "└───────────┴───────┴─────────────┴──────────────┘\n"
          ]
        }
      ],
      "source": [
        "# Your code here:\n",
        "\n",
        "segment_value = (\n",
        "    df.group_by([\"Cut\", \"Color\"])\n",
        "      .agg([\n",
        "          pl.col(\"Price\").sum().alias(\"total_value\"),\n",
        "          pl.len().alias(\"num_diamonds\")\n",
        "      ])\n",
        "      .sort(\"total_value\", descending=True)\n",
        "      .head(5)\n",
        ")\n",
        "\n",
        "print(segment_value)\n"
      ]
    },
    {
      "cell_type": "markdown",
      "metadata": {
        "id": "mEAdsIA9PcHw"
      },
      "source": [
        "## Debrief\n",
        "\n",
        "Congratulations! You've just completed your first day as the diamond company's data analyst.\n",
        "\n",
        "Remember:\n",
        "- CEOs speak in business language, not technical terms\n",
        "- Always understand what each row represents before analyzing\n",
        "- Business questions contain clues about which operations to use"
      ]
    }
  ],
  "metadata": {
    "kernelspec": {
      "display_name": "Python 3",
      "language": "python",
      "name": "python3"
    },
    "language_info": {
      "codemirror_mode": {
        "name": "ipython",
        "version": 3
      },
      "file_extension": ".py",
      "mimetype": "text/x-python",
      "name": "python",
      "nbconvert_exporter": "python",
      "pygments_lexer": "ipython3",
      "version": "3.12.0"
    },
    "colab": {
      "provenance": []
    }
  },
  "nbformat": 4,
  "nbformat_minor": 0
}